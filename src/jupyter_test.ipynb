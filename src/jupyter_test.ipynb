{
 "cells": [
  {
   "cell_type": "code",
   "execution_count": null,
   "id": "2dec2cb2-04c6-481c-8c13-443e42154fe8",
   "metadata": {},
   "outputs": [],
   "source": []
  },
  {
   "cell_type": "code",
   "execution_count": 1,
   "id": "645a3d8c-f5fa-43f2-99ea-9660da686076",
   "metadata": {},
   "outputs": [],
   "source": [
    "from src.utils import fib"
   ]
  },
  {
   "cell_type": "code",
   "execution_count": 2,
   "id": "e1c6041e-e159-4609-8091-64c52a6abc0f",
   "metadata": {},
   "outputs": [],
   "source": [
    "# Je veux faire un test en mode leet, avec par exemple 100 test passer"
   ]
  },
  {
   "cell_type": "code",
   "execution_count": 4,
   "id": "d43990d3-1b71-4a65-b1bf-a407600341cd",
   "metadata": {},
   "outputs": [],
   "source": [
    "import numpy as np"
   ]
  },
  {
   "cell_type": "code",
   "execution_count": 5,
   "id": "5e3271f5-33ae-4deb-ad6a-3beece83709a",
   "metadata": {},
   "outputs": [],
   "source": [
    "arr = np.ones((3,4))"
   ]
  },
  {
   "cell_type": "code",
   "execution_count": null,
   "id": "b378a4cb-7f65-485c-ac20-7a4b9ff61ac8",
   "metadata": {},
   "outputs": [],
   "source": [
    "arr.reshape((6,3))"
   ]
  },
  {
   "cell_type": "code",
   "execution_count": 1,
   "id": "06aaa3d9-922a-45cd-b5ef-7f8698a2bbaa",
   "metadata": {},
   "outputs": [],
   "source": [
    "def countResponseTimeRegressions(responseTimes):\n",
    "    # Write your code here\n",
    "    count = 0\n",
    "    sum_moving = 0\n",
    "    for k in range(1, len(responseTimes)):\n",
    "        \n",
    "        sum_moving += responseTimes[k-1]\n",
    "        current_avg = sum_moving/k\n",
    "        if responseTimes[k] > current_avg:\n",
    "            count += 1\n",
    "    \n",
    "    return count"
   ]
  },
  {
   "cell_type": "code",
   "execution_count": 6,
   "id": "737607fc-9962-42b0-bbaf-36515b25ded2",
   "metadata": {},
   "outputs": [],
   "source": [
    "res = [100, 200, 150,300]\n"
   ]
  },
  {
   "cell_type": "code",
   "execution_count": 7,
   "id": "e2dfd2eb-d28a-4f84-82f9-023604174bbf",
   "metadata": {},
   "outputs": [
    {
     "data": {
      "text/plain": [
       "2"
      ]
     },
     "execution_count": 7,
     "metadata": {},
     "output_type": "execute_result"
    }
   ],
   "source": [
    "countResponseTimeRegressions(res)"
   ]
  },
  {
   "cell_type": "code",
   "execution_count": 9,
   "id": "8d27911a-a5c5-4701-8643-27c2e728bfe0",
   "metadata": {},
   "outputs": [],
   "source": [
    "def mergeHighDefinitionIntervals(intervals):\n",
    "    if len(intervals) == 0:\n",
    "        return []\n",
    "    # Write your code here\n",
    "    merging = [intervals[0]]\n",
    "    for k in range(1, len(intervals)):\n",
    "        last_merged = merging[-1]\n",
    "        if intervals[k][0] <= last_merged[1]:\n",
    "            merging[-1][1] = intervals[k][1]\n",
    "        else:\n",
    "            merging.append([intervals[k][0], intervals[k][1]])\n",
    "            print(merging)\n",
    "    return merging\n",
    "            "
   ]
  },
  {
   "cell_type": "code",
   "execution_count": 17,
   "id": "b09249e1-3eb8-412a-a783-3cb96a65fdc8",
   "metadata": {},
   "outputs": [
    {
     "data": {
      "text/plain": [
       "[[5, 10], [6, 14], [16, 20], [17, 25]]"
      ]
     },
     "execution_count": 17,
     "metadata": {},
     "output_type": "execute_result"
    }
   ],
   "source": [
    "intervals = [[17, 25], [6, 14],[5, 10],  [16, 20] ]\n",
    "intervals.sort()\n",
    "intervals"
   ]
  },
  {
   "cell_type": "code",
   "execution_count": 13,
   "id": "aa8e73e8-330b-4c7f-b52c-aa684c29f2ff",
   "metadata": {},
   "outputs": [
    {
     "name": "stdout",
     "output_type": "stream",
     "text": [
      "[[5, 14], [16, 20]]\n"
     ]
    },
    {
     "data": {
      "text/plain": [
       "[[5, 14], [16, 25]]"
      ]
     },
     "execution_count": 13,
     "metadata": {},
     "output_type": "execute_result"
    }
   ],
   "source": [
    "mergeHighDefinitionIntervals(intervals)"
   ]
  },
  {
   "cell_type": "code",
   "execution_count": 41,
   "id": "ddd76c59-7cfd-4b67-bb92-44e7db24dce4",
   "metadata": {},
   "outputs": [],
   "source": [
    "import numpy as np"
   ]
  },
  {
   "cell_type": "code",
   "execution_count": null,
   "id": "c709adf4-38d4-44a3-8011-d9dc339ffd47",
   "metadata": {},
   "outputs": [],
   "source": [
    "\n"
   ]
  },
  {
   "cell_type": "code",
   "execution_count": 131,
   "id": "aff53a49-0557-4e21-ab66-06ab97254814",
   "metadata": {},
   "outputs": [],
   "source": [
    "readings = [-1, 0, 1, 2, -1, -4]\n",
    "windowSize = 3"
   ]
  },
  {
   "cell_type": "code",
   "execution_count": null,
   "id": "4e822767-1e6f-460c-ac59-5e8b639e8549",
   "metadata": {},
   "outputs": [],
   "source": [
    "\n"
   ]
  },
  {
   "cell_type": "code",
   "execution_count": 132,
   "id": "6096f389-6200-4910-844b-8bd81c68211c",
   "metadata": {},
   "outputs": [
    {
     "data": {
      "text/plain": [
       "[[-1, 0, 1]]"
      ]
     },
     "execution_count": 132,
     "metadata": {},
     "output_type": "execute_result"
    }
   ],
   "source": [
    "eliminate_dup([[1, -1, 0], [0, 1, -1], [1, -1, 0]])"
   ]
  },
  {
   "cell_type": "code",
   "execution_count": 83,
   "id": "15e35654-ce63-4b8c-9158-c94dd7359e16",
   "metadata": {},
   "outputs": [],
   "source": [
    "def eliminate_dup(arr):\n",
    "    if len(arr) < 1:\n",
    "        return []\n",
    "    \n",
    "    seen = set()\n",
    "    res = []\n",
    "    for triplet in arr:\n",
    "        triplet.sort()\n",
    "        triplet_tuple = tuple(triplet)\n",
    "        if triplet_tuple not in seen:\n",
    "            seen.add(triplet_tuple)\n",
    "            res.append(triplet)\n",
    "    return res\n",
    "    \n",
    "def threeSum(window):\n",
    "    triplets = []\n",
    "    window.sort()\n",
    "    n = len(window)\n",
    "    for k in range(n-2):\n",
    "        target = -window[k]\n",
    "        left = k+1\n",
    "        right = n-1\n",
    "        while left < right:\n",
    "            candidate = window[left] + window[right]\n",
    "            if candidate > target:\n",
    "                right -= 1\n",
    "            elif candidate < target:\n",
    "                left += 1\n",
    "            else:\n",
    "                triplets.append([window[k],window[left],window[right]])\n",
    "                left += 1\n",
    "                right -= 1\n",
    "    return triplets\n",
    "        \n",
    "        \n",
    "\n",
    "def findZeroSumTripletsInWindow(readings, windowSize):\n",
    "    if windowSize < 3:\n",
    "        return []\n",
    "    if windowSize > len(readings):\n",
    "        windowSize = len(readings)\n",
    "        \n",
    "    # Write your code here\n",
    "    n = len(readings)\n",
    "    res = []\n",
    "    for k in range(n-windowSize+1):\n",
    "        window = readings[k:windowSize+k]\n",
    "        res = res + threeSum(window)\n",
    "        \n",
    "    return eliminate_dup(res)"
   ]
  },
  {
   "cell_type": "code",
   "execution_count": null,
   "id": "788f8735-c6cf-4393-9e7b-8343ff0f0d3b",
   "metadata": {},
   "outputs": [],
   "source": []
  },
  {
   "cell_type": "code",
   "execution_count": null,
   "id": "5ce08f8c-ee91-4307-bc5c-5357b1dce6fb",
   "metadata": {},
   "outputs": [],
   "source": []
  },
  {
   "cell_type": "code",
   "execution_count": null,
   "id": "0a3771ce-5018-4a9e-b7e2-8f6adc9bda76",
   "metadata": {},
   "outputs": [],
   "source": []
  },
  {
   "cell_type": "code",
   "execution_count": null,
   "id": "4bb1ff71-5895-414f-8a08-03306d2a3579",
   "metadata": {},
   "outputs": [],
   "source": []
  },
  {
   "cell_type": "code",
   "execution_count": null,
   "id": "0e7295cf-a0c3-4b55-b2c4-e60e07ab2de9",
   "metadata": {},
   "outputs": [],
   "source": []
  }
 ],
 "metadata": {
  "kernelspec": {
   "display_name": "Certif MlOps",
   "language": "python",
   "name": "mlops_env"
  },
  "language_info": {
   "codemirror_mode": {
    "name": "ipython",
    "version": 3
   },
   "file_extension": ".py",
   "mimetype": "text/x-python",
   "name": "python",
   "nbconvert_exporter": "python",
   "pygments_lexer": "ipython3",
   "version": "3.12.7"
  }
 },
 "nbformat": 4,
 "nbformat_minor": 5
}
